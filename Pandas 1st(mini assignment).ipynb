{
  "cells": [
    {
      "cell_type": "markdown",
      "id": "aed467f0",
      "metadata": {
        "id": "aed467f0"
      },
      "source": [
        "# Pandas First Exercises\n",
        "Dear Students this notebook contains simple exercises for beginners to practice basic Pandas operations such as creating Series, DataFrames, saving files, and importing data."
      ]
    },
    {
      "cell_type": "markdown",
      "id": "99bfd544",
      "metadata": {
        "id": "99bfd544"
      },
      "source": [
        "### Exercise 1: Creating Pandas Series"
      ]
    },
    {
      "cell_type": "markdown",
      "id": "7b27040c",
      "metadata": {
        "id": "7b27040c"
      },
      "source": [
        "1. Create a Pandas Series containing the marks of 5 students in Maths.\n",
        "2. Create a Pandas Series that stores 5 city names.\n",
        "3. Create a Pandas Series with 5 different floating-point numbers representing temperature readings."
      ]
    },
    {
      "cell_type": "code",
      "source": [
        "#answer here"
      ],
      "metadata": {
        "id": "OK7V5fd5kmrn"
      },
      "id": "OK7V5fd5kmrn",
      "execution_count": null,
      "outputs": []
    },
    {
      "cell_type": "markdown",
      "id": "40f70f70",
      "metadata": {
        "id": "40f70f70"
      },
      "source": [
        "### Exercise 2: Creating DataFrames from Series"
      ]
    },
    {
      "cell_type": "markdown",
      "id": "dcbe763b",
      "metadata": {
        "id": "dcbe763b"
      },
      "source": [
        "1. Create two Series: one containing student names and another containing their ages. Combine them into a single DataFrame.\n",
        "2. Create three Series: 'Product Name', 'Price', and 'Quantity'. Combine them into one DataFrame and display it."
      ]
    },
    {
      "cell_type": "code",
      "source": [
        "#answer here"
      ],
      "metadata": {
        "id": "_E_7kzvVkp7e"
      },
      "id": "_E_7kzvVkp7e",
      "execution_count": null,
      "outputs": []
    },
    {
      "cell_type": "markdown",
      "id": "13c74f3d",
      "metadata": {
        "id": "13c74f3d"
      },
      "source": [
        "### Exercise 3: Creating DataFrames from Dictionaries"
      ]
    },
    {
      "cell_type": "markdown",
      "id": "14cd2ed5",
      "metadata": {
        "id": "14cd2ed5"
      },
      "source": [
        "1. Create a dictionary with keys as 'Name', 'Age', and 'City', each containing a list of 3 values. Convert it into a DataFrame.\n",
        "2. Create a dictionary with keys 'Product', 'Category', and 'Price'. Convert it into a DataFrame and print it."
      ]
    },
    {
      "cell_type": "code",
      "source": [
        "#answer here"
      ],
      "metadata": {
        "id": "JLxq4HlGkqig"
      },
      "id": "JLxq4HlGkqig",
      "execution_count": null,
      "outputs": []
    },
    {
      "cell_type": "markdown",
      "id": "76437b78",
      "metadata": {
        "id": "76437b78"
      },
      "source": [
        "### Exercise 4: Saving DataFrames to CSV and Excel"
      ]
    },
    {
      "cell_type": "markdown",
      "id": "a7b957b3",
      "metadata": {
        "id": "a7b957b3"
      },
      "source": [
        "1. Save any one of your created DataFrames into a CSV file named 'students.csv'.\n",
        "2. Save another DataFrame into an Excel file named 'products.xlsx'."
      ]
    },
    {
      "cell_type": "code",
      "source": [
        "#answer here"
      ],
      "metadata": {
        "id": "1ewTIFMykrER"
      },
      "id": "1ewTIFMykrER",
      "execution_count": null,
      "outputs": []
    },
    {
      "cell_type": "markdown",
      "id": "003c619d",
      "metadata": {
        "id": "003c619d"
      },
      "source": [
        "### Exercise 5: Reading Data from Files"
      ]
    },
    {
      "cell_type": "markdown",
      "id": "acbd6ed2",
      "metadata": {
        "id": "acbd6ed2"
      },
      "source": [
        "1. Use Pandas to read the CSV file 'students.csv' that you created earlier.\n",
        "2. Use Pandas to read the Excel file 'products.xlsx' that you created earlier."
      ]
    },
    {
      "cell_type": "code",
      "source": [
        "#answer here"
      ],
      "metadata": {
        "id": "4abENRlTkrsx"
      },
      "id": "4abENRlTkrsx",
      "execution_count": null,
      "outputs": []
    }
  ],
  "metadata": {
    "colab": {
      "provenance": []
    }
  },
  "nbformat": 4,
  "nbformat_minor": 5
}