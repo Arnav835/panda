{
  "cells": [
    {
      "cell_type": "markdown",
      "metadata": {
        "id": "view-in-github",
        "colab_type": "text"
      },
      "source": [
        "<a href=\"https://colab.research.google.com/github/Arnav835/panda/blob/main/Pandas_1st(mini_assignment).ipynb\" target=\"_parent\"><img src=\"https://colab.research.google.com/assets/colab-badge.svg\" alt=\"Open In Colab\"/></a>"
      ]
    },
    {
      "cell_type": "markdown",
      "id": "aed467f0",
      "metadata": {
        "id": "aed467f0"
      },
      "source": [
        "# Pandas First Exercises\n",
        "Dear Students this notebook contains simple exercises for beginners to practice basic Pandas operations such as creating Series, DataFrames, saving files, and importing data."
      ]
    },
    {
      "cell_type": "markdown",
      "id": "99bfd544",
      "metadata": {
        "id": "99bfd544"
      },
      "source": [
        "### Exercise 1: Creating Pandas Series"
      ]
    },
    {
      "cell_type": "markdown",
      "id": "7b27040c",
      "metadata": {
        "id": "7b27040c"
      },
      "source": [
        "1. Create a Pandas Series containing the marks of 5 students in Maths.\n",
        "2. Create a Pandas Series that stores 5 city names.\n",
        "3. Create a Pandas Series with 5 different floating-point numbers representing temperature readings."
      ]
    },
    {
      "cell_type": "code",
      "source": [
        "import pandas as pd\n",
        "students = pd.Series([\"arnav\",\"yash\",\"shivam\",\"umang\",\"sumit\"])\n",
        "marks = pd.Series([20,48,26,18,92])\n",
        "city = pd.Series([\"noida\",\"pune\",\"mumbai\",\"goa\",\"lucknow\"])\n",
        "temp = pd.Series([2.4,5.3,4.2,6.5,4.7])\n",
        "df = pd.concat([students,marks,city,temp], axis=1)\n",
        "print(df)"
      ],
      "metadata": {
        "id": "OK7V5fd5kmrn",
        "colab": {
          "base_uri": "https://localhost:8080/"
        },
        "outputId": "ca16d80f-3de6-4644-a3a2-12fe5d2f0d1d"
      },
      "id": "OK7V5fd5kmrn",
      "execution_count": 9,
      "outputs": [
        {
          "output_type": "stream",
          "name": "stdout",
          "text": [
            "        0   1        2    3\n",
            "0   arnav  20    noida  2.4\n",
            "1    yash  48     pune  5.3\n",
            "2  shivam  26   mumbai  4.2\n",
            "3   umang  18      goa  6.5\n",
            "4   sumit  92  lucknow  4.7\n"
          ]
        }
      ]
    },
    {
      "cell_type": "markdown",
      "id": "40f70f70",
      "metadata": {
        "id": "40f70f70"
      },
      "source": [
        "### Exercise 2: Creating DataFrames from Series"
      ]
    },
    {
      "cell_type": "markdown",
      "id": "dcbe763b",
      "metadata": {
        "id": "dcbe763b"
      },
      "source": [
        "1. Create two Series: one containing student names and another containing their ages. Combine them into a single DataFrame.\n",
        "2. Create three Series: 'Product Name', 'Price', and 'Quantity'. Combine them into one DataFrame and display it."
      ]
    },
    {
      "cell_type": "code",
      "source": [
        "import pandas as pd\n",
        "student = pd.Series([\"arnav\",\"yash\",\"shivam\",\"umang\",\"sumit\"])\n",
        "ages = pd.Series([23,21,20,22,24])\n",
        "product_name = pd.Series([\"rcb\",\"csk\",\"mi\",\"kkr\",\"srh\"])\n",
        "price = pd.Series([200,170,150,210,200])\n",
        "quantity = pd.Series([10,5,20,45,24])\n",
        "df = pd.concat([student,ages,product_name,price,quantity], axis=1)\n",
        "print(df)"
      ],
      "metadata": {
        "id": "_E_7kzvVkp7e",
        "colab": {
          "base_uri": "https://localhost:8080/"
        },
        "outputId": "0ead33e5-b1bc-4240-ae8f-d61d6938206f"
      },
      "id": "_E_7kzvVkp7e",
      "execution_count": 14,
      "outputs": [
        {
          "output_type": "stream",
          "name": "stdout",
          "text": [
            "        0   1    2    3   4\n",
            "0   arnav  23  rcb  200  10\n",
            "1    yash  21  csk  170   5\n",
            "2  shivam  20   mi  150  20\n",
            "3   umang  22  kkr  210  45\n",
            "4   sumit  24  srh  200  24\n"
          ]
        }
      ]
    },
    {
      "cell_type": "markdown",
      "id": "13c74f3d",
      "metadata": {
        "id": "13c74f3d"
      },
      "source": [
        "### Exercise 3: Creating DataFrames from Dictionaries"
      ]
    },
    {
      "cell_type": "markdown",
      "id": "14cd2ed5",
      "metadata": {
        "id": "14cd2ed5"
      },
      "source": [
        "1. Create a dictionary with keys as 'Name', 'Age', and 'City', each containing a list of 3 values. Convert it into a DataFrame.\n",
        "2. Create a dictionary with keys 'Product', 'Category', and 'Price'. Convert it into a DataFrame and print it."
      ]
    },
    {
      "cell_type": "code",
      "source": [
        "import pandas as pd\n",
        "dict = {\n",
        "    'Name' : [\"arnav\",\"yash\",\"sumit\"],\n",
        "    'Age' : [23,22,20],\n",
        "    'City' : [\"noida\",\"delhi\",\"pune\"],\n",
        "    'Product' : [\"abc\",\"mno\",\"xyz\"],\n",
        "    'Category' : [\"oo\",\"nn\",\"pp\"],\n",
        "    'Price' : [2000,3000,1000]\n",
        "}\n",
        "\n",
        "df=pd.DataFrame(dict)\n",
        "print(df)"
      ],
      "metadata": {
        "id": "JLxq4HlGkqig",
        "colab": {
          "base_uri": "https://localhost:8080/"
        },
        "outputId": "ec74aa71-2657-4ff1-e5f5-2bda52c2a8ba"
      },
      "id": "JLxq4HlGkqig",
      "execution_count": 17,
      "outputs": [
        {
          "output_type": "stream",
          "name": "stdout",
          "text": [
            "    Name  Age   City Product Category  Price\n",
            "0  arnav   23  noida     abc       oo   2000\n",
            "1   yash   22  delhi     mno       nn   3000\n",
            "2  sumit   20   pune     xyz       pp   1000\n"
          ]
        }
      ]
    },
    {
      "cell_type": "markdown",
      "id": "76437b78",
      "metadata": {
        "id": "76437b78"
      },
      "source": [
        "### Exercise 4: Saving DataFrames to CSV and Excel"
      ]
    },
    {
      "cell_type": "markdown",
      "id": "a7b957b3",
      "metadata": {
        "id": "a7b957b3"
      },
      "source": [
        "1. Save any one of your created DataFrames into a CSV file named 'students.csv'.\n",
        "2. Save another DataFrame into an Excel file named 'products.xlsx'."
      ]
    },
    {
      "cell_type": "code",
      "source": [
        "from google.colab import files\n",
        "files.download(\"students.csv\")\n",
        "df.to_excel(\"products.xlsx\")\n"
      ],
      "metadata": {
        "colab": {
          "base_uri": "https://localhost:8080/",
          "height": 17
        },
        "id": "qkr6yUtKPkEJ",
        "outputId": "c16f3015-c6e4-4006-c09c-53034df36061"
      },
      "id": "qkr6yUtKPkEJ",
      "execution_count": 28,
      "outputs": [
        {
          "output_type": "display_data",
          "data": {
            "text/plain": [
              "<IPython.core.display.Javascript object>"
            ],
            "application/javascript": [
              "\n",
              "    async function download(id, filename, size) {\n",
              "      if (!google.colab.kernel.accessAllowed) {\n",
              "        return;\n",
              "      }\n",
              "      const div = document.createElement('div');\n",
              "      const label = document.createElement('label');\n",
              "      label.textContent = `Downloading \"${filename}\": `;\n",
              "      div.appendChild(label);\n",
              "      const progress = document.createElement('progress');\n",
              "      progress.max = size;\n",
              "      div.appendChild(progress);\n",
              "      document.body.appendChild(div);\n",
              "\n",
              "      const buffers = [];\n",
              "      let downloaded = 0;\n",
              "\n",
              "      const channel = await google.colab.kernel.comms.open(id);\n",
              "      // Send a message to notify the kernel that we're ready.\n",
              "      channel.send({})\n",
              "\n",
              "      for await (const message of channel.messages) {\n",
              "        // Send a message to notify the kernel that we're ready.\n",
              "        channel.send({})\n",
              "        if (message.buffers) {\n",
              "          for (const buffer of message.buffers) {\n",
              "            buffers.push(buffer);\n",
              "            downloaded += buffer.byteLength;\n",
              "            progress.value = downloaded;\n",
              "          }\n",
              "        }\n",
              "      }\n",
              "      const blob = new Blob(buffers, {type: 'application/binary'});\n",
              "      const a = document.createElement('a');\n",
              "      a.href = window.URL.createObjectURL(blob);\n",
              "      a.download = filename;\n",
              "      div.appendChild(a);\n",
              "      a.click();\n",
              "      div.remove();\n",
              "    }\n",
              "  "
            ]
          },
          "metadata": {}
        },
        {
          "output_type": "display_data",
          "data": {
            "text/plain": [
              "<IPython.core.display.Javascript object>"
            ],
            "application/javascript": [
              "download(\"download_be8f2e81-7141-46ce-bfca-0a9a0d1ef77e\", \"students.csv\", 123)"
            ]
          },
          "metadata": {}
        }
      ]
    },
    {
      "cell_type": "markdown",
      "id": "003c619d",
      "metadata": {
        "id": "003c619d"
      },
      "source": [
        "### Exercise 5: Reading Data from Files"
      ]
    },
    {
      "cell_type": "markdown",
      "id": "acbd6ed2",
      "metadata": {
        "id": "acbd6ed2"
      },
      "source": [
        "1. Use Pandas to read the CSV file 'students.csv' that you created earlier.\n",
        "2. Use Pandas to read the Excel file 'products.xlsx' that you created earlier."
      ]
    },
    {
      "cell_type": "code",
      "source": [
        "df = pd.read_csv(\"students.csv\")\n",
        "print(df)\n",
        "df = pd.read_excel(\"products.xlsx\")\n",
        "print(df)"
      ],
      "metadata": {
        "id": "4abENRlTkrsx",
        "colab": {
          "base_uri": "https://localhost:8080/"
        },
        "outputId": "1aa08a01-c8e0-4a9a-bb3a-fa4d33d96946"
      },
      "id": "4abENRlTkrsx",
      "execution_count": 30,
      "outputs": [
        {
          "output_type": "stream",
          "name": "stdout",
          "text": [
            "   Unnamed: 0   Name  Age   City Product Category  Price\n",
            "0           0  arnav   23  noida     abc       oo   2000\n",
            "1           1   yash   22  delhi     mno       nn   3000\n",
            "2           2  sumit   20   pune     xyz       pp   1000\n",
            "   Unnamed: 0   Name  Age   City Product Category  Price\n",
            "0           0  arnav   23  noida     abc       oo   2000\n",
            "1           1   yash   22  delhi     mno       nn   3000\n",
            "2           2  sumit   20   pune     xyz       pp   1000\n"
          ]
        }
      ]
    }
  ],
  "metadata": {
    "colab": {
      "provenance": [],
      "include_colab_link": true
    },
    "language_info": {
      "name": "python"
    },
    "kernelspec": {
      "name": "python3",
      "display_name": "Python 3"
    }
  },
  "nbformat": 4,
  "nbformat_minor": 5
}